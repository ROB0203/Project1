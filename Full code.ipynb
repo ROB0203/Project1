{
  "cells": [
    {
      "cell_type": "markdown",
      "metadata": {
        "id": "view-in-github",
        "colab_type": "text"
      },
      "source": [
        "<a href=\"https://colab.research.google.com/github/ROB0203/Project1/blob/main/21MT10040_Assignment2.ipynb\" target=\"_parent\"><img src=\"https://colab.research.google.com/assets/colab-badge.svg\" alt=\"Open In Colab\"/></a>"
      ]
    },
    {
      "cell_type": "code",
      "execution_count": null,
      "id": "49f71d17",
      "metadata": {
        "id": "49f71d17"
      },
      "outputs": [],
      "source": [
        "#importing required libraries for sigmoid\n",
        "import numpy as np\n",
        "import matplotlib.pyplot as plt\n",
        "import tensorflow as tf\n",
        "from tensorflow import keras\n",
        "from sklearn.preprocessing import LabelBinarizer"
      ]
    },
    {
      "cell_type": "code",
      "execution_count": null,
      "id": "abfbf5ba",
      "metadata": {
        "id": "abfbf5ba"
      },
      "outputs": [],
      "source": [
        "#importing important libraries from tensorflow\n",
        "from tensorflow.keras.models import Sequential\n",
        "from tensorflow.keras.layers import Dense\n",
        "from tensorflow.keras.layers import Flatten\n",
        "from tensorflow.keras.layers import Activation\n",
        "from tensorflow.keras.layers import BatchNormalization\n",
        "from tensorflow.keras.optimizers import Adam"
      ]
    },
    {
      "cell_type": "code",
      "execution_count": null,
      "id": "d70c9a6c",
      "metadata": {
        "id": "d70c9a6c",
        "outputId": "1a4e680f-4ab3-43ea-8ceb-847e95a686e2"
      },
      "outputs": [
        {
          "name": "stdout",
          "output_type": "stream",
          "text": [
            "Downloading data from https://storage.googleapis.com/tensorflow/tf-keras-datasets/mnist.npz\n",
            "11490434/11490434 [==============================] - 2s 0us/step\n"
          ]
        }
      ],
      "source": [
        "#loading the dataset\n",
        "digit_mnist = keras.datasets.mnist\n",
        "#splitting the dataset\n",
        "(Xtrain,Ytrain),(Xtest,Ytest)=digit_mnist.load_data()"
      ]
    },
    {
      "cell_type": "code",
      "execution_count": null,
      "id": "2c8a897c",
      "metadata": {
        "id": "2c8a897c",
        "outputId": "a5302288-10e7-41ad-fbdb-7836ec463f41"
      },
      "outputs": [
        {
          "name": "stdout",
          "output_type": "stream",
          "text": [
            "Shape of training data:  (60000, 28, 28)\n",
            "Shape of test data:  (10000, 28, 28)\n"
          ]
        }
      ],
      "source": [
        "print(\"Shape of training data: \",Xtrain.shape)\n",
        "print(\"Shape of test data: \",Xtest.shape)"
      ]
    },
    {
      "cell_type": "code",
      "execution_count": null,
      "id": "9fe32763",
      "metadata": {
        "id": "9fe32763"
      },
      "outputs": [],
      "source": [
        "#normalizing the feature values\n",
        "Xtrain = Xtrain.astype(\"float32\")/255.0\n",
        "Xtest = Xtest.astype(\"float32\")/255.0"
      ]
    },
    {
      "cell_type": "code",
      "execution_count": null,
      "id": "74ee171f",
      "metadata": {
        "id": "74ee171f"
      },
      "outputs": [],
      "source": [
        "#convert the labels from integer to vector\n",
        "Ytrain = LabelBinarizer().fit_transform(Ytrain)\n",
        "Ytest = LabelBinarizer().fit_transform(Ytest)"
      ]
    },
    {
      "cell_type": "code",
      "execution_count": null,
      "id": "e0c4ba79",
      "metadata": {
        "id": "e0c4ba79"
      },
      "outputs": [],
      "source": [
        "#creating the deep network architecture\n",
        "model= Sequential()\n",
        "model.add(Flatten(input_shape = (28,28)))\n",
        "for i in range(10):\n",
        "    model.add(Dense(10))\n",
        "    model.add(Activation(\"sigmoid\"))\n",
        "    model.add(BatchNormalization())\n",
        "model.add(Dense(10,activation=\"sigmoid\"))"
      ]
    },
    {
      "cell_type": "code",
      "execution_count": null,
      "id": "a1ec6978",
      "metadata": {
        "id": "a1ec6978",
        "outputId": "7a496035-ec8e-41eb-c076-af1c05ca626e"
      },
      "outputs": [
        {
          "name": "stdout",
          "output_type": "stream",
          "text": [
            "Model: \"sequential\"\n",
            "_________________________________________________________________\n",
            " Layer (type)                Output Shape              Param #   \n",
            "=================================================================\n",
            " flatten (Flatten)           (None, 784)               0         \n",
            "                                                                 \n",
            " dense (Dense)               (None, 10)                7850      \n",
            "                                                                 \n",
            " activation (Activation)     (None, 10)                0         \n",
            "                                                                 \n",
            " batch_normalization (BatchN  (None, 10)               40        \n",
            " ormalization)                                                   \n",
            "                                                                 \n",
            " dense_1 (Dense)             (None, 10)                110       \n",
            "                                                                 \n",
            " activation_1 (Activation)   (None, 10)                0         \n",
            "                                                                 \n",
            " batch_normalization_1 (Batc  (None, 10)               40        \n",
            " hNormalization)                                                 \n",
            "                                                                 \n",
            " dense_2 (Dense)             (None, 10)                110       \n",
            "                                                                 \n",
            " activation_2 (Activation)   (None, 10)                0         \n",
            "                                                                 \n",
            " batch_normalization_2 (Batc  (None, 10)               40        \n",
            " hNormalization)                                                 \n",
            "                                                                 \n",
            " dense_3 (Dense)             (None, 10)                110       \n",
            "                                                                 \n",
            " activation_3 (Activation)   (None, 10)                0         \n",
            "                                                                 \n",
            " batch_normalization_3 (Batc  (None, 10)               40        \n",
            " hNormalization)                                                 \n",
            "                                                                 \n",
            " dense_4 (Dense)             (None, 10)                110       \n",
            "                                                                 \n",
            " activation_4 (Activation)   (None, 10)                0         \n",
            "                                                                 \n",
            " batch_normalization_4 (Batc  (None, 10)               40        \n",
            " hNormalization)                                                 \n",
            "                                                                 \n",
            " dense_5 (Dense)             (None, 10)                110       \n",
            "                                                                 \n",
            " activation_5 (Activation)   (None, 10)                0         \n",
            "                                                                 \n",
            " batch_normalization_5 (Batc  (None, 10)               40        \n",
            " hNormalization)                                                 \n",
            "                                                                 \n",
            " dense_6 (Dense)             (None, 10)                110       \n",
            "                                                                 \n",
            " activation_6 (Activation)   (None, 10)                0         \n",
            "                                                                 \n",
            " batch_normalization_6 (Batc  (None, 10)               40        \n",
            " hNormalization)                                                 \n",
            "                                                                 \n",
            " dense_7 (Dense)             (None, 10)                110       \n",
            "                                                                 \n",
            " activation_7 (Activation)   (None, 10)                0         \n",
            "                                                                 \n",
            " batch_normalization_7 (Batc  (None, 10)               40        \n",
            " hNormalization)                                                 \n",
            "                                                                 \n",
            " dense_8 (Dense)             (None, 10)                110       \n",
            "                                                                 \n",
            " activation_8 (Activation)   (None, 10)                0         \n",
            "                                                                 \n",
            " batch_normalization_8 (Batc  (None, 10)               40        \n",
            " hNormalization)                                                 \n",
            "                                                                 \n",
            " dense_9 (Dense)             (None, 10)                110       \n",
            "                                                                 \n",
            " activation_9 (Activation)   (None, 10)                0         \n",
            "                                                                 \n",
            " batch_normalization_9 (Batc  (None, 10)               40        \n",
            " hNormalization)                                                 \n",
            "                                                                 \n",
            " dense_10 (Dense)            (None, 10)                110       \n",
            "                                                                 \n",
            "=================================================================\n",
            "Total params: 9,350\n",
            "Trainable params: 9,150\n",
            "Non-trainable params: 200\n",
            "_________________________________________________________________\n"
          ]
        }
      ],
      "source": [
        "model.summary()"
      ]
    },
    {
      "cell_type": "code",
      "execution_count": null,
      "id": "69a2b6a8",
      "metadata": {
        "id": "69a2b6a8",
        "outputId": "91629dbb-5024-43d2-d7a9-971356814dd1"
      },
      "outputs": [
        {
          "name": "stdout",
          "output_type": "stream",
          "text": [
            "Epoch 1/10\n",
            "938/938 [==============================] - 15s 9ms/step - loss: 0.7336 - accuracy: 0.7953 - val_loss: 0.3467 - val_accuracy: 0.9030\n",
            "Epoch 2/10\n",
            "938/938 [==============================] - 7s 7ms/step - loss: 0.3714 - accuracy: 0.8927 - val_loss: 0.3007 - val_accuracy: 0.9124\n",
            "Epoch 3/10\n",
            "938/938 [==============================] - 7s 7ms/step - loss: 0.3144 - accuracy: 0.9086 - val_loss: 0.2785 - val_accuracy: 0.9201\n",
            "Epoch 4/10\n",
            "938/938 [==============================] - 7s 7ms/step - loss: 0.2861 - accuracy: 0.9156 - val_loss: 0.2538 - val_accuracy: 0.9227\n",
            "Epoch 5/10\n",
            "938/938 [==============================] - 6s 7ms/step - loss: 0.2638 - accuracy: 0.9219 - val_loss: 0.2259 - val_accuracy: 0.9372\n",
            "Epoch 6/10\n",
            "938/938 [==============================] - 7s 7ms/step - loss: 0.2499 - accuracy: 0.9265 - val_loss: 0.2135 - val_accuracy: 0.9382\n",
            "Epoch 7/10\n",
            "938/938 [==============================] - 7s 7ms/step - loss: 0.2389 - accuracy: 0.9299 - val_loss: 0.2109 - val_accuracy: 0.9404\n",
            "Epoch 8/10\n",
            "938/938 [==============================] - 7s 7ms/step - loss: 0.2305 - accuracy: 0.9308 - val_loss: 0.2117 - val_accuracy: 0.9401\n",
            "Epoch 9/10\n",
            "938/938 [==============================] - 6s 7ms/step - loss: 0.2199 - accuracy: 0.9339 - val_loss: 0.2012 - val_accuracy: 0.9422\n",
            "Epoch 10/10\n",
            "938/938 [==============================] - 7s 8ms/step - loss: 0.2172 - accuracy: 0.9357 - val_loss: 0.2369 - val_accuracy: 0.9306\n"
          ]
        }
      ],
      "source": [
        "#training the model using adam\n",
        "batch_size = 64\n",
        "adam = Adam(learning_rate = 0.0001)\n",
        "model.compile(optimizer=\"adam\",loss=\"categorical_crossentropy\",metrics=['accuracy'])\n",
        "Hyp1 = model.fit(Xtrain,Ytrain,epochs =10, validation_data = (Xtest,Ytest), batch_size = batch_size)"
      ]
    },
    {
      "cell_type": "code",
      "execution_count": null,
      "id": "c51a3cb6",
      "metadata": {
        "id": "c51a3cb6",
        "outputId": "6aa50618-d451-4693-d98a-c9b0ad4e592f"
      },
      "outputs": [
        {
          "name": "stdout",
          "output_type": "stream",
          "text": [
            "313/313 [==============================] - 1s 4ms/step - loss: 0.2369 - accuracy: 0.9306\n",
            "Test accuracy:  0.9305999875068665\n"
          ]
        }
      ],
      "source": [
        "# evaluate the network on the testing data to obtain our final classifications\n",
        "test_loss, test_acc = model.evaluate(Xtest,Ytest)\n",
        "print(\"Test accuracy: \", test_acc)"
      ]
    },
    {
      "cell_type": "code",
      "execution_count": null,
      "id": "9fcc8412",
      "metadata": {
        "id": "9fcc8412",
        "outputId": "66cce099-daf1-4bf6-ce44-2de8a187c1f3"
      },
      "outputs": [
        {
          "name": "stdout",
          "output_type": "stream",
          "text": [
            "313/313 [==============================] - 2s 3ms/step\n",
            "[7.7019904e-05 9.9988198e-01 2.3195724e-01 8.8276625e-01 2.8693846e-01\n",
            " 2.5158373e-01 6.8090692e-02 9.2745960e-01 7.7517676e-01 4.6495220e-01]\n",
            "1\n"
          ]
        }
      ],
      "source": [
        "#prediction on test data\n",
        "predictions = model.predict(Xtest)\n",
        "print(predictions[5])\n",
        "print(np.argmax(predictions[5]))"
      ]
    },
    {
      "cell_type": "code",
      "execution_count": null,
      "id": "c94332c8",
      "metadata": {
        "id": "c94332c8",
        "outputId": "fa639d88-a61b-410d-fca3-d55ea7cd518e"
      },
      "outputs": [
        {
          "data": {
            "image/png": "[encoded data removed]",
            "text/plain": [
              "<Figure size 432x288 with 2 Axes>"
            ]
          },
          "metadata": {
            "needs_background": "light"
          },
          "output_type": "display_data"
        }
      ],
      "source": [
        "#Showing the testing input\n",
        "plt.figure()\n",
        "plt.imshow(Xtest[7])\n",
        "plt.colorbar()\n",
        "plt.grid(False)\n",
        "plt.show()"
      ]
    },
    {
      "cell_type": "code",
      "execution_count": null,
      "id": "0573983f",
      "metadata": {
        "id": "0573983f"
      },
      "outputs": [],
      "source": [
        "#using Relu\n",
        "import numpy as np\n",
        "import matplotlib.pyplot as plt\n",
        "import tensorflow as tf\n",
        "from tensorflow import keras\n",
        "from sklearn.preprocessing import LabelBinarizer"
      ]
    },
    {
      "cell_type": "code",
      "execution_count": null,
      "id": "5ff687f9",
      "metadata": {
        "id": "5ff687f9"
      },
      "outputs": [],
      "source": [
        "from tensorflow.keras.models import Sequential\n",
        "from tensorflow.keras.layers import Dense\n",
        "from tensorflow.keras.layers import Flatten\n",
        "from tensorflow.keras.layers import Activation\n",
        "from tensorflow.keras.layers import BatchNormalization\n",
        "from tensorflow.keras.optimizers import Adam"
      ]
    },
    {
      "cell_type": "code",
      "execution_count": null,
      "id": "83b08201",
      "metadata": {
        "id": "83b08201"
      },
      "outputs": [],
      "source": [
        "#load dataset\n",
        "digit_mnist = keras.datasets.mnist\n",
        "#splitting the dataset\n",
        "(Xtrain,Ytrain),(Xtest,Ytest)=digit_mnist.load_data()"
      ]
    },
    {
      "cell_type": "code",
      "execution_count": null,
      "id": "bb2b8fd1",
      "metadata": {
        "id": "bb2b8fd1",
        "outputId": "7a9ee8f7-9e6c-4a96-dc26-d442e2052d3a"
      },
      "outputs": [
        {
          "name": "stdout",
          "output_type": "stream",
          "text": [
            "Shape of training data:  (60000, 28, 28)\n",
            "Shape of test data:  (10000, 28, 28)\n"
          ]
        }
      ],
      "source": [
        "print(\"Shape of training data: \",Xtrain.shape)\n",
        "print(\"Shape of test data: \",Xtest.shape)"
      ]
    },
    {
      "cell_type": "code",
      "execution_count": null,
      "id": "08e531ac",
      "metadata": {
        "id": "08e531ac"
      },
      "outputs": [],
      "source": [
        "#normalizing the feature values\n",
        "Xtrain = Xtrain.astype(\"float32\")/255.0\n",
        "Xtest = Xtest.astype(\"float32\")/255.0"
      ]
    },
    {
      "cell_type": "code",
      "execution_count": null,
      "id": "b70cb551",
      "metadata": {
        "id": "b70cb551"
      },
      "outputs": [],
      "source": [
        "#convert the labels from integer to vector\n",
        "Ytrain = LabelBinarizer().fit_transform(Ytrain)\n",
        "Ytest = LabelBinarizer().fit_transform(Ytest)"
      ]
    },
    {
      "cell_type": "code",
      "execution_count": null,
      "id": "ea615078",
      "metadata": {
        "id": "ea615078"
      },
      "outputs": [],
      "source": [
        "#create the deep network architecture\n",
        "model= Sequential()\n",
        "model.add(Flatten(input_shape = (28,28)))\n",
        "for i in range(10):\n",
        "    model.add(Dense(10))\n",
        "    model.add(Activation(\"relu\"))\n",
        "    model.add(BatchNormalization())\n",
        "model.add(Dense(10,activation=\"sigmoid\"))"
      ]
    },
    {
      "cell_type": "code",
      "execution_count": null,
      "id": "4c577f40",
      "metadata": {
        "id": "4c577f40",
        "outputId": "c5c4c4a1-ea7c-4a81-f6dc-59ada242e238"
      },
      "outputs": [
        {
          "name": "stdout",
          "output_type": "stream",
          "text": [
            "Epoch 1/10\n",
            "938/938 [==============================] - 15s 9ms/step - loss: 1.5987 - accuracy: 0.4614 - val_loss: 0.8982 - val_accuracy: 0.6884\n",
            "Epoch 2/10\n",
            "938/938 [==============================] - 7s 8ms/step - loss: 0.8067 - accuracy: 0.7413 - val_loss: 0.5910 - val_accuracy: 0.8246\n",
            "Epoch 3/10\n",
            "938/938 [==============================] - 7s 8ms/step - loss: 0.6020 - accuracy: 0.8251 - val_loss: 0.4681 - val_accuracy: 0.8713\n",
            "Epoch 4/10\n",
            "938/938 [==============================] - 7s 8ms/step - loss: 0.5229 - accuracy: 0.8532 - val_loss: 0.4213 - val_accuracy: 0.8848\n",
            "Epoch 5/10\n",
            "938/938 [==============================] - 8s 8ms/step - loss: 0.4728 - accuracy: 0.8688 - val_loss: 0.3768 - val_accuracy: 0.8973\n",
            "Epoch 6/10\n",
            "938/938 [==============================] - 8s 8ms/step - loss: 0.4473 - accuracy: 0.8774 - val_loss: 0.3666 - val_accuracy: 0.9007\n",
            "Epoch 7/10\n",
            "938/938 [==============================] - 8s 9ms/step - loss: 0.4225 - accuracy: 0.8849 - val_loss: 0.3534 - val_accuracy: 0.9057\n",
            "Epoch 8/10\n",
            "938/938 [==============================] - 7s 7ms/step - loss: 0.4073 - accuracy: 0.8888 - val_loss: 0.3358 - val_accuracy: 0.9103\n",
            "Epoch 9/10\n",
            "938/938 [==============================] - 7s 8ms/step - loss: 0.3921 - accuracy: 0.8945 - val_loss: 0.3370 - val_accuracy: 0.9095\n",
            "Epoch 10/10\n",
            "938/938 [==============================] - 7s 8ms/step - loss: 0.3729 - accuracy: 0.8988 - val_loss: 0.3167 - val_accuracy: 0.9147\n"
          ]
        }
      ],
      "source": [
        "#training the model using adam\n",
        "batch_size = 64\n",
        "adam = Adam(learning_rate = 0.0001)\n",
        "model.compile(optimizer=\"adam\",loss=\"categorical_crossentropy\",metrics=['accuracy'])\n",
        "Hyp2 = model.fit(Xtrain,Ytrain,epochs =10, validation_data = (Xtest,Ytest), batch_size = batch_size)"
      ]
    },
    {
      "cell_type": "code",
      "execution_count": null,
      "id": "e4714e70",
      "metadata": {
        "id": "e4714e70",
        "outputId": "264bb7b8-9cc6-4b9d-d001-cd34ca08caf3"
      },
      "outputs": [
        {
          "name": "stdout",
          "output_type": "stream",
          "text": [
            "313/313 [==============================] - 1s 3ms/step - loss: 0.3167 - accuracy: 0.9147\n",
            "Test accuracy:  0.9146999716758728\n"
          ]
        }
      ],
      "source": [
        "# evaluate the network on the testing data to obtain our final classifications\n",
        "test_loss, test_acc = model.evaluate(Xtest,Ytest)\n",
        "print(\"Test accuracy: \", test_acc)"
      ]
    },
    {
      "cell_type": "code",
      "execution_count": null,
      "id": "1cfc8b09",
      "metadata": {
        "id": "1cfc8b09",
        "outputId": "afab9cd1-e429-43dd-bbf3-9b0e879c6bb7"
      },
      "outputs": [
        {
          "name": "stdout",
          "output_type": "stream",
          "text": [
            "313/313 [==============================] - 2s 3ms/step\n",
            "[0.07159225 0.9993939  0.369186   0.58534694 0.7006886  0.57742244\n",
            " 0.6228476  0.09416052 0.8043164  0.5358244 ]\n",
            "1\n"
          ]
        }
      ],
      "source": [
        "#prediction on test data\n",
        "predictions = model.predict(Xtest)\n",
        "print(predictions[5])\n",
        "print(np.argmax(predictions[5]))"
      ]
    },
    {
      "cell_type": "code",
      "execution_count": null,
      "id": "0a3e4f8a",
      "metadata": {
        "id": "0a3e4f8a",
        "outputId": "c01b2a7d-02c3-4881-ae9a-16c8757dbe20"
      },
      "outputs": [
        {
          "data": {
            "image/png": "[encoded data removed]",
            "text/plain": [
              "<Figure size 432x288 with 2 Axes>"
            ]
          },
          "metadata": {
            "needs_background": "light"
          },
          "output_type": "display_data"
        }
      ],
      "source": [
        "#Showing the testing input\n",
        "plt.figure()\n",
        "plt.imshow(Xtest[3])\n",
        "plt.colorbar()\n",
        "plt.grid(False)\n",
        "plt.show()"
      ]
    },
    {
      "cell_type": "code",
      "execution_count": null,
      "id": "687d5ce1",
      "metadata": {
        "id": "687d5ce1",
        "outputId": "a3429b46-1ad8-4ad9-877c-328dfdc383a6"
      },
      "outputs": [
        {
          "data": {
            "image/png": "[encoded data removed]",
            "text/plain": [
              "<Figure size 432x288 with 1 Axes>"
            ]
          },
          "metadata": {
            "needs_background": "light"
          },
          "output_type": "display_data"
        }
      ],
      "source": [
        "# plot the training loss and accuracy\n",
        "\n",
        "plt.figure()\n",
        "plt.plot(np.arange(0, 10), Hyp1.history[\"loss\"], label=\"train_loss_sigmoid\")\n",
        "plt.plot(np.arange(0, 10), Hyp1.history[\"val_loss\"], label=\"val_loss_sigmoid\")\n",
        "plt.plot(np.arange(0, 10), Hyp1.history[\"accuracy\"], label=\"train_acc_sigmoid\")\n",
        "plt.plot(np.arange(0, 10), Hyp1.history[\"val_accuracy\"], label=\"val_acc_sigmoid\")\n",
        "\n",
        "plt.plot(np.arange(0, 10), Hyp2.history[\"loss\"], label=\"train_loss_relu\")\n",
        "plt.plot(np.arange(0, 10), Hyp2.history[\"val_loss\"], label=\"val_loss_relu\")\n",
        "plt.plot(np.arange(0, 10), Hyp2.history[\"accuracy\"], label=\"train_acc_relu\")\n",
        "plt.plot(np.arange(0, 10), Hyp2.history[\"val_accuracy\"], label=\"val_acc_relu\")\n",
        "\n",
        "\n",
        "plt.title(\"Training Loss and Accuracy\")\n",
        "plt.xlabel(\"Epoch #\")\n",
        "plt.ylabel(\"Loss/Accuracy\")\n",
        "plt.legend()\n",
        "plt.show()"
      ]
    },
    {
      "cell_type": "code",
      "execution_count": null,
      "id": "3ab3145b",
      "metadata": {
        "id": "3ab3145b"
      },
      "outputs": [],
      "source": []
    }
  ],
  "metadata": {
    "kernelspec": {
      "display_name": "Python 3 (ipykernel)",
      "language": "python",
      "name": "python3"
    },
    "language_info": {
      "codemirror_mode": {
        "name": "ipython",
        "version": 3
      },
      "file_extension": ".py",
      "mimetype": "text/x-python",
      "name": "python",
      "nbconvert_exporter": "python",
      "pygments_lexer": "ipython3",
      "version": "3.9.12"
    },
    "colab": {
      "provenance": [],
      "include_colab_link": true
    }
  },
  "nbformat": 4,
  "nbformat_minor": 5
}
